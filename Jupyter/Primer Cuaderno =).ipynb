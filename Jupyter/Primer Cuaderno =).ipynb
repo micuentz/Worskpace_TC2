{
 "cells": [
  {
   "cell_type": "markdown",
   "id": "2635c6dd",
   "metadata": {},
   "source": [
    "# Primer prueba con Jupyter Notebook\n",
    "\n",
    "![Imagen](https://www.google.com/url?sa=i&url=https%3A%2F%2Fwww.diariovasco.com%2Fxlsemanal%2Fa-fondo%2Femoticono-cara-contenta-smiley.html&psig=AOvVaw3hB_H1wEWZVuu_tk97dF3E&ust=1680475989298000&source=images&cd=vfe&ved=0CBAQjRxqFwoTCLDMv__iif4CFQAAAAAdAAAAABAJ)\n"
   ]
  },
  {
   "cell_type": "code",
   "execution_count": 2,
   "id": "b09a4f81",
   "metadata": {},
   "outputs": [
    {
     "name": "stdout",
     "output_type": "stream",
     "text": [
      "Primer print :D\n"
     ]
    }
   ],
   "source": [
    "print(\"Primer print :D\")"
   ]
  },
  {
   "cell_type": "code",
   "execution_count": null,
   "id": "115f8b00",
   "metadata": {},
   "outputs": [],
   "source": []
  }
 ],
 "metadata": {
  "kernelspec": {
   "display_name": "Python 3 (ipykernel)",
   "language": "python",
   "name": "python3"
  },
  "language_info": {
   "codemirror_mode": {
    "name": "ipython",
    "version": 3
   },
   "file_extension": ".py",
   "mimetype": "text/x-python",
   "name": "python",
   "nbconvert_exporter": "python",
   "pygments_lexer": "ipython3",
   "version": "3.10.10"
  }
 },
 "nbformat": 4,
 "nbformat_minor": 5
}
