{
 "cells": [
  {
   "cell_type": "markdown",
   "id": "614a58d5",
   "metadata": {},
   "source": [
    "<img src=\"logo_UTN.svg\" align=\"right\" width=\"150\">\n",
    "\n",
    "# Tarea Semanal 14\n",
    "### Autor: Tobías Guerrero"
   ]
  },
  {
   "cell_type": "markdown",
   "id": "a00180a1",
   "metadata": {},
   "source": [
    "## 1 Consigna\n",
    "\n",
    "<img src=\"topologia.png\" align=\"center\">\n",
    "\n",
    "Respetando la topología arriba presentada, se pide:\n",
    "- Obtener la impedancia de entrada al cuadripolo A, cargado con un resistor de 1Ω a la salida.\n",
    "- Sintetizar A como un cuadripolo escalera.\n",
    "- Simular el comportamiento de la red en LTspice graficando S21 y S11 en función de la frecuencia. \n",
    "- Explicar el comportamiento de A a partir de los valores de S11 en:\n",
    "    - el centro de la banda de paso\n",
    "    - la frecuencia de corte\n",
    "    - la frecuencia de transición y el centro de la banda de detenida\n",
    "- Modificar el circuito para que la frecuencia de corte sea $ 2\\pi\\cdot10^{6} $ rad/s y la resistencia del generador sea 50Ω."
   ]
  },
  {
   "cell_type": "markdown",
   "id": "9440f8ec",
   "metadata": {},
   "source": [
    "## 2 Obtención de la transferencia y síntesis\n",
    "\n",
    "Este apartado abarca los primeros 2 puntos de la consigna."
   ]
  },
  {
   "cell_type": "code",
   "execution_count": 1,
   "id": "b53b506c",
   "metadata": {
    "scrolled": false
   },
   "outputs": [
    {
     "data": {
      "text/html": [
       "\n",
       "        <iframe\n",
       "            width=\"1000\"\n",
       "            height=\"1000\"\n",
       "            src=\"./Guerrero_TS14.pdf\"\n",
       "            frameborder=\"0\"\n",
       "            allowfullscreen\n",
       "            \n",
       "        ></iframe>\n",
       "        "
      ],
      "text/plain": [
       "<IPython.lib.display.IFrame at 0x2475064b5b0>"
      ]
     },
     "execution_count": 1,
     "metadata": {},
     "output_type": "execute_result"
    }
   ],
   "source": [
    "from IPython.display import IFrame\n",
    "IFrame(\"./Guerrero_TS14.pdf\", width=1000, height=1000)"
   ]
  },
  {
   "cell_type": "markdown",
   "id": "7ab3a0aa",
   "metadata": {},
   "source": [
    "## 3 Simulación\n",
    "\n",
    "Este apartado abarca los puntos 3 y 4 de la consigna.\n",
    "\n",
    "A continuación, se exponen imágenes del circuito sintetizado y del resultado obtenido en la simulación, respectivamente.\n",
    "\n",
    "<img src=\"circuito_norm.png\" align=\"center\">\n",
    "\n",
    "<img src=\"sim_norm.png\" align=\"center\">\n",
    "\n",
    "- En el centro de la banda de paso (considerando esta entre 0Hz y la frecuencia de corte, 275mHz), se observa un S11 en el orden de los -10dB, y tendiendo a $-\\infty$ a medida que la frecuencia tiende a continua. Esto nos indica que la adaptación es mejor mientras menor es la frecuencia.\n",
    "- En la frecuencia de corte, 275mHz (cuando la transferencia, S21, cae a -3dB), se observa que se igualan S21 y S11. Esto hace pensar que la onda incidente en el puerto 2 y la reflejada en el puerto 1 son iguales, con lo cual sería el punto donde la mitad de la potencia se transmite y el resto es reflejada.\n",
    "- Adentrándose en la banda de detenida, se observa que S11 aumenta hasta llegar a 0dB. Esto indica que toda la potencia incidente en el puerto 1 es reflejada, y por lo tanto, nada es transmitido.\n",
    "- Estas cuestiones abren otra forma de pensar el filtro pasabajos: en las frecuencias de interés (bajas frecuencias), la red está completamente adaptada, permitiendo transmitir toda la potencia. En la frecuencia de corte se tiene un punto crítico, ya que es donde la mitad de la potencia se transmite y la mitad se refleja. Por último, en las frecuencias de rechazo, la desadaptación es tal que no se permite la transmisión de potencia en absoluto."
   ]
  },
  {
   "cell_type": "markdown",
   "id": "e0776514",
   "metadata": {},
   "source": [
    "## 4 Desnormalización\n",
    "\n",
    "Este apartado abarca el último punto de la consigna.\n",
    "\n",
    "Si se quiere que la frecuencia de corte (275mHz = 1.73 rad/s), donde S21 cae a -3dB, se lleve hasta 1MHz = 6.28 Mrad/s, entonces la frecuencia unitaria 1 rad/s = 159mHz, por regla de tres simple, debe llevarse hasta 578kHz = 3.63 Mrad/s. Por lo tanto, la norma de frecuencia será $N_{\\omega} = 2\\pi\\cdot578kHz$.\n",
    "Por otro lado, la norma de impedancia será $N_{R} = 50\\Omega$.\n",
    "Con estas consideraciones, los valores de los componentes resultan:\n",
    "\n",
    "- $Rser = 50\\Omega$\n",
    "- $L_{1} = 17.34\\mu Hy$\n",
    "- $L_{2} = 2.61\\mu Hy$\n",
    "- $C_{1} = 3.03nF$\n",
    "- $R_{2} = 50\\Omega$\n",
    "\n",
    "A continuación, se muestran el circuito desnormalizado y los resultados de la simulación, respectivamente.\n",
    "\n",
    "<img src=\"circuito.png\" align=\"center\">\n",
    "\n",
    "<img src=\"sim.png\" align=\"center\">"
   ]
  }
 ],
 "metadata": {
  "kernelspec": {
   "display_name": "Python 3 (ipykernel)",
   "language": "python",
   "name": "python3"
  },
  "language_info": {
   "codemirror_mode": {
    "name": "ipython",
    "version": 3
   },
   "file_extension": ".py",
   "mimetype": "text/x-python",
   "name": "python",
   "nbconvert_exporter": "python",
   "pygments_lexer": "ipython3",
   "version": "3.10.10"
  }
 },
 "nbformat": 4,
 "nbformat_minor": 5
}
