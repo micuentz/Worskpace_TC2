{
 "cells": [
  {
   "cell_type": "code",
   "execution_count": 2,
   "id": "b2f8b528",
   "metadata": {},
   "outputs": [
    {
     "data": {
      "text/latex": [
       "$\\displaystyle   \\frac{s^2 }{s^2 + s \\,\\,   1 } . \\frac{s^2 }{s^2 + s \\,\\, 1.618 +   1 } . \\frac{s^2 }{s^2 + s \\,\\, 0.618 +   1 }$"
      ],
      "text/plain": [
       "<IPython.core.display.Math object>"
      ]
     },
     "metadata": {},
     "output_type": "display_data"
    }
   ],
   "source": [
    "# -*- coding: utf-8 -*-\n",
    "\"\"\"\n",
    "Created on Sun Jun 18 15:32:38 2023\n",
    "\n",
    "@author: Tobias\n",
    "\"\"\"\n",
    "\n",
    "import math\n",
    "import numpy as np\n",
    "import scipy.signal as sig\n",
    "from pytc2 import sistemas_lineales\n",
    "from IPython.display import display, Math, Latex\n",
    "\n",
    "amax = 0.5\n",
    "amin = 20\n",
    "omega_stop = 2\n",
    "\n",
    "n_calc = math.log(math.sqrt(((10**(amin/10))-1)/((10**(amax/10)-1))))/math.log(omega_stop)\n",
    "\n",
    "n = math.ceil(n_calc)\n",
    "\n",
    "z,p,k = sig.buttap(n)\n",
    "num, den = sig.zpk2tf(z, p, k)\n",
    "\n",
    "tf = sig.TransferFunction(num, den)\n",
    "\n",
    "sos = sig.tf2sos(num, den)\n",
    "\n",
    "sistemas_lineales.pretty_print_SOS(sos)"
   ]
  },
  {
   "cell_type": "code",
   "execution_count": 9,
   "id": "97b9c634",
   "metadata": {
    "scrolled": true
   },
   "outputs": [
    {
     "data": {
      "text/latex": [
       "$\\displaystyle \\frac{0.2012 }{s^5 + s^4 \\,\\, 1.25 + s^3 \\,\\, 2.031 + s^2 \\,\\, 1.432 + s \\,\\, 0.8209 + 0.2012 }$"
      ],
      "text/plain": [
       "<IPython.core.display.Math object>"
      ]
     },
     "metadata": {},
     "output_type": "display_data"
    },
    {
     "data": {
      "text/latex": [
       "$\\displaystyle   \\frac{0.3861 }{s + 0.3861 } . \\frac{0.4946 }{s^2 + s \\frac{0.7033}{1.126} + 0.7033^2} . \\frac{1.054 }{s^2 + s \\frac{1.026}{4.301} + 1.026^2}$"
      ],
      "text/plain": [
       "<IPython.core.display.Math object>"
      ]
     },
     "metadata": {},
     "output_type": "display_data"
    }
   ],
   "source": [
    "# -*- coding: utf-8 -*-\n",
    "\"\"\"\n",
    "Created on Sat Jun 17 14:39:56 2023\n",
    "\n",
    "@author: Tobias\n",
    "\"\"\"\n",
    "\n",
    "import scipy.signal as sig\n",
    "import math\n",
    "from pytc2.sistemas_lineales import pretty_print_lti,tf2sos_analog,pretty_print_SOS\n",
    "from IPython.display import display, Math, Latex\n",
    "\n",
    "amax = 0.4\n",
    "amin = 48\n",
    "omega_stop = 3\n",
    "Q = 5\n",
    "\n",
    "n_calc = (math.log(math.sqrt(4*((10**(0.1*amin) - 1)/(10**(0.1*amax) - 1)))))/(math.log(omega_stop+(math.sqrt((omega_stop**2)-1))))\n",
    "\n",
    "n = math.ceil(n_calc)\n",
    "\n",
    "ee = 10**(0.1*amax) - 1\n",
    "\n",
    "z,p,k = sig.cheb1ap(n,amax)\n",
    "\n",
    "num,den = sig.zpk2tf(z,p,k)\n",
    "\n",
    "tf = sig.TransferFunction(num,den)\n",
    "\n",
    "pretty_print_lti(tf)\n",
    "\n",
    "sos = tf2sos_analog(num,den)\n",
    "\n",
    "pretty_print_SOS(sos,mode='omegayq')"
   ]
  },
  {
   "cell_type": "code",
   "execution_count": 10,
   "id": "7624414c",
   "metadata": {},
   "outputs": [
    {
     "data": {
      "text/latex": [
       "$\\displaystyle   \\frac{0.08705 }{s^2 + s \\frac{3.023}{0.5219} + 3.023^2} . \\frac{11.49 }{s^2 + s \\frac{3.389}{0.8055} + 3.389^2}$"
      ],
      "text/plain": [
       "<IPython.core.display.Math object>"
      ]
     },
     "metadata": {},
     "output_type": "display_data"
    }
   ],
   "source": [
    "# -*- coding: utf-8 -*-\n",
    "\"\"\"\n",
    "Created on Sat Jun 17 14:39:56 2023\n",
    "\n",
    "@author: Tobias\n",
    "\"\"\"\n",
    "\n",
    "import scipy.signal as sig\n",
    "import math\n",
    "from pytc2.sistemas_lineales import pretty_print_lti,tf2sos_analog,pretty_print_SOS\n",
    "from IPython.display import display, Math, Latex\n",
    "import numpy as np\n",
    "\n",
    "num = np.array([1])\n",
    "den = np.array([1 , 10 , 45 , 105 , 105])\n",
    "\n",
    "sos = tf2sos_analog(num,den)\n",
    "\n",
    "pretty_print_SOS(sos,mode='omegayq')"
   ]
  }
 ],
 "metadata": {
  "kernelspec": {
   "display_name": "Python 3 (ipykernel)",
   "language": "python",
   "name": "python3"
  },
  "language_info": {
   "codemirror_mode": {
    "name": "ipython",
    "version": 3
   },
   "file_extension": ".py",
   "mimetype": "text/x-python",
   "name": "python",
   "nbconvert_exporter": "python",
   "pygments_lexer": "ipython3",
   "version": "3.10.10"
  }
 },
 "nbformat": 4,
 "nbformat_minor": 5
}
