{
 "cells": [
  {
   "cell_type": "markdown",
   "id": "948ad27f",
   "metadata": {},
   "source": [
    "<img src=\"./logo_UTN.svg\" align=\"right\" width=\"150\"> \n",
    "\n",
    "# Tarea Semanal 2 \n",
    "#### Autor: Tobías Guerrero "
   ]
  },
  {
   "cell_type": "markdown",
   "id": "eb85c4d7",
   "metadata": {},
   "source": [
    "## Consigna \n",
    "\n",
    "<img src=\"./circuito.png\" align=\"center\" width=\"600\"/> \n",
    "\n",
    "Para el circuito de la imagen, se pide:\n",
    "1. Hallar la transferencia $T(s) = \\frac{Vo}{Vin}$\n",
    "2. Calcular los valores de los componentes para obtener $\\omega_0 = 1$ y $Q = 3$\n",
    "3. Calcular el valor de $R_{1}$ para obtener $T(0) = 20dB$\n",
    "\n",
    "Además, a modo de **Bonus** se pide:\n",
    "\n",
    "4. Obtener los valores de los componentes normalizados en frecuencia e impedancia\n",
    "5. Calcular las sensibilidades $S_{C}^{\\omega_0}$ , $S_{R_{2}}^{Q}$ y $S_{R_{3}}^{Q}$\n",
    "6. Recalcular los valores de los componentes para cumplir con una transferencia de Butterworth\n",
    "7. Pensar cómo implementar un filtro pasabanda con los mismos componentes y cuáles serían sus parámetros"
   ]
  },
  {
   "cell_type": "markdown",
   "id": "3dfb0fc3",
   "metadata": {},
   "source": [
    "## 1. Transferencia\n",
    "\n",
    "Los cálculos de transferencia se realizaron en papel. Se incluyen los mismos en el anexo correspondiente. Por simplicidad, aquí se presenta únicamente el resultado: \n",
    "\n",
    "**${\\large T_{(s)} = -\\frac{R_{3}}{R_{1}} \\frac{\\frac{1}{(R_{3} \\cdot C){2}}}{s^{2}+s\\frac{1}{R_{2} \\cdot C}+\\frac{1}{(R_{3} \\cdot C)^{2}}}}$**   (1)  "
   ]
  },
  {
   "cell_type": "markdown",
   "id": "3ce3b9e3",
   "metadata": {},
   "source": [
    "## 2. Cálculo de $\\omega_{0}$ y $Q$\n",
    "\n",
    "La transferencia de un filtro pasabajos en función de sus parámetros $\\omega_{0}$ y $Q$ es:\n",
    "\n",
    "**$ \\large T_{LP(s)} = \\frac{1}{s^{2}+s\\frac{\\omega_{0}}{Q}+\\omega_{0}}$**   (2)\n",
    "\n",
    "Comparando las ecuaciones (1) y (2), se observa que:\n",
    "\n",
    "$\\omega_{0} = \\frac{1}{R_{3} \\cdot C}$\n",
    "\n",
    "Y como se pide $\\omega_{0} = 1 rad/s$:\n",
    "\n",
    "$\\frac{1}{R_{3} \\cdot C = 1} \\rightarrow C = \\frac{1}{R_{3}}$\n",
    "\n",
    "Definiendo **$R_{3} = 10k\\Omega$** , se obtiene **$C = 100\\mu F$**\n",
    "\n",
    "También se puede observar que:\n",
    "\n",
    "$\\frac{\\omega_{0}}{Q} = \\frac{1}{R_{2} \\cdot C} \\rightarrow Q = \\frac{R_{2}}{R_{3}}$\n",
    "\n",
    "Y como se pide $Q = 3$, sabiendo que $R_{3} = 10k\\Omega$, se obtiene $R_{2} = 30k\\Omega$"
   ]
  },
  {
   "cell_type": "markdown",
   "id": "37d60dfa",
   "metadata": {},
   "source": [
    "## 3. Cálculo de ganancia en continua $T_{(0)}$\n",
    "\n",
    "La ganancia en continua estará dada por:\n",
    "\n",
    "$|T_{(0)}| = \\frac{R_{3}}{R_{1}}$\n",
    "\n",
    "Sabiendo que 20dB = 10 veces, y que $R_{3} = 10k\\Omega$, se obtiene $R_{1} = 1k\\Omega$"
   ]
  },
  {
   "cell_type": "markdown",
   "id": "48af3653",
   "metadata": {},
   "source": [
    "## Simulación\n",
    "\n",
    "Se incluyen en este apartado las figuras obtenidas a partir de la simulación del circuito obtenido en LTSpice. \n",
    "\n",
    "El único parámetro no calculado, $R_{4}$, se diseñó arbitrariamente ya que no influye en la transferencia, de forma que $R_{4} = R_{3} = 10k\\Omega$\n",
    "\n",
    "El circuito diseñado se muestra a continuación:\n",
    "\n",
    "<img src=\"./circuito_diseño.png\" align=\"center\" width=\"600\"/>\n",
    "\n",
    "La simulación de este circuito ofreció el siguiente resultado:\n",
    "\n",
    "<img src=\"./sim_diseño.png\" align=\"center\" width=\"900\">\n",
    "\n",
    "En esta figura se observa que:\n",
    "- La ganancia en continua coincide con la diseñada\n",
    "- La frecuencia de corte $f_{0} = \\frac{\\omega_{0}}{2\\pi}$ coincide con la calculada\n",
    "- La ganancia máxima se da para una frecuencia ligeramente inferior a la de corte, como es esperable en un sistema sobreamortiguado con $Q > 1$"
   ]
  },
  {
   "cell_type": "markdown",
   "id": "5e7facf5",
   "metadata": {},
   "source": [
    "## 4. Normalización\n",
    "\n",
    "Se definen como norma de impedancia $\\Omega_{Z} = R_{3} = 10k\\Omega$ y como norma de frecuencia $\\Omega_{\\omega} = \\omega_{0} = 1 rad/s$, de forma que los valores normalizados de los componentes resultan:\n",
    "- $R_{1} = 0,1$\n",
    "- $R_{2} = 3$\n",
    "- $R_{3} = 1$\n",
    "- $R_{4} = 1$\n",
    "- $C = 1$\n",
    "\n",
    "El circuito resulante se muestra a continuación:\n",
    "\n",
    "<img src=\"./circuito_norm.png\" align=\"center\" width=\"600\">\n",
    "\n",
    "Y el resultado:\n",
    "\n",
    "<img src=\"./sim_norm.png\" align=\"center\" width=\"900\">\n",
    "\n",
    "Se puede observar que no hay ninguna diferencia entre el gráfico para el circuito normalizado y el sin normalizar, lo cual es esperable."
   ]
  },
  {
   "cell_type": "markdown",
   "id": "a7f929b1",
   "metadata": {},
   "source": [
    "## 5. Sensibilidad\n",
    "\n",
    "La definición para la sensibilidad de una variable dependiente $y$ respecto a una variable independiente $x$ es $S_{x}^{y} = \\frac{x}{y} \\cdot \\frac{dy}{dx}$.\n",
    "\n",
    "Aplicando esta definición a las sensibilidades pedidas se obtiene:\n",
    "- $S_{C}^{\\omega_{0}} = -1$\n",
    "- $S_{R_{2}}^{Q} = 1$\n",
    "- $S_{R_{3}}^{Q} = -1$\n",
    "\n",
    "Estos resultados implican que:\n",
    "- $\\omega_{0}$ varía inversamente con $C$ y en la misma proporción\n",
    "- $Q$ varía directamente con $R_{2}$ y en la misma proporción\n",
    "- $Q$ varía inversamente con $R_{3}$ y en la misma proporción\n",
    "\n",
    "Los cálculos se hicieron en papel y se incluyen en el anexo."
   ]
  },
  {
   "cell_type": "markdown",
   "id": "372723cf",
   "metadata": {},
   "source": [
    "## 6. Butterworth\n",
    "\n",
    "Los filtros de Butterworth se caracterizan por la localización de sus polos. En particular, un filtro Butterworth de segundo orden tendrá un par de polos complejos conjugados ambos a 45° del eje $-\\sigma$.\n",
    "\n",
    "<img src=\"./polos_butter.png\" align=\"center\" width=\"400\">\n",
    "\n",
    "La imagen es una captura de la figura 6.6 del libro *Design of Analog Filters* de Schaumann y Van Vankelburg.\n",
    "\n",
    "Conociendo la ubicación de los polos, se puede hallar el valor de $Q$, sabiendo que $Q = \\frac{1}{2 \\cdot cos(\\psi)}$, donde $\\psi$ es el ángulo del par de polos respecto al eje $-\\sigma$. Entonces, resulta $Q = \\sqrt{2}$.\n",
    "\n",
    "Con este nuevo valor de $Q$, el único componente cuyo valor es necesario recalcular es $R_{2}$, ya que el resto de los valores están fijados por la frecuencia de corte y la ganancia en continua. Este resulta: \n",
    "\n",
    "$Q = \\frac{R_{2}}{R_{3}} = \\sqrt{2} \\rightarrow R_{2} = R_{3} \\cdot \\sqrt{2} = 7071\\Omega$\n",
    "\n",
    "El circuito con esta modificación resulta:\n",
    "\n",
    "<img src=\"./circuito_butter.png\" align=\"center\" width=\"600\">\n",
    "\n",
    "Y el resultado obtenido:\n",
    "\n",
    "<img src=\".\\sim_butt.png\" align=\"center\" width=\"900\">"
   ]
  },
  {
   "cell_type": "markdown",
   "id": "385c2991",
   "metadata": {},
   "source": [
    "## 7. Implementación de un filtro pasabanda\n",
    "\n",
    "Se puede implementar un filtro pasabanda con una estructura Åckerberg-Mossberg (como la planteada) si se toma la salida en la salida del primer amplificador operacional, marcado como U1 en el circuito simulado.\n",
    "\n",
    "Considerando los elementos calculados en los puntos 2. y 3., los parámetros de este circuito serán:\n",
    "- $\\omega_{0} = \\frac{1}{R_{3} \\cdot C} = 1 rad/s$\n",
    "- $Q = \\frac{R_{2}}{R_{3}} = 3$\n",
    "- $BW = \\frac{\\omega_{0}}{Q} = 0,33 rad/s$\n",
    "\n",
    "<img src=\"./circuito_pb.png\" align=\"center\" width=\"600\">\n",
    "\n",
    "<img src=\"./sim_pb.png\" align=\"center\" width=\"900\">"
   ]
  },
  {
   "cell_type": "markdown",
   "id": "e3483e7c",
   "metadata": {},
   "source": [
    "## Anexo - Cálculos en papel\n",
    "\n",
    "<img src=\"./pag_1.jpg\" align=\"center\">\n",
    "\n",
    "<img src=\"./pag_2.jpg\" align=\"center\">"
   ]
  }
 ],
 "metadata": {
  "kernelspec": {
   "display_name": "Python 3 (ipykernel)",
   "language": "python",
   "name": "python3"
  },
  "language_info": {
   "codemirror_mode": {
    "name": "ipython",
    "version": 3
   },
   "file_extension": ".py",
   "mimetype": "text/x-python",
   "name": "python",
   "nbconvert_exporter": "python",
   "pygments_lexer": "ipython3",
   "version": "3.10.11"
  }
 },
 "nbformat": 4,
 "nbformat_minor": 5
}
