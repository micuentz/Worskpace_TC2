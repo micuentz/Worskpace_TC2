{
 "cells": [
  {
   "cell_type": "markdown",
   "id": "948ad27f",
   "metadata": {},
   "source": [
    "<img src=\"../../logo_UTN.svg\" align=\"right\" width=\"150\" /> \n",
    "\n",
    "# Tarea Semanal 2 \n",
    "#### Autor: Tobías Guerrero "
   ]
  },
  {
   "cell_type": "markdown",
   "id": "eb85c4d7",
   "metadata": {},
   "source": [
    "## Consigna \n",
    "\n",
    "<img src=\"./circuito.png\" align=\"center\" width=\"500\"/> \n",
    "\n",
    "Para el circuito de la imagen, se pide:\n",
    "1. Hallar la transferencia $T(s) = \\frac{Vo}{Vin}$\n",
    "2. Calcular los valores de los componentes para obtener $\\omega_0 = 1$ y $Q = 3$\n",
    "3. Calcular el valor de $R_{1}$ para obtener $T(0) = 20dB$\n",
    "\n",
    "Además, a modo de **Bonus** se pide:\n",
    "\n",
    "4. Obtener los valores de los componentes normalizados en frecuencia e impedancia\n",
    "5. Calcular las sensibilidades $S_{C}^{\\omega_0}$ , $S_{R_{2}}^{Q}$ y $S_{R_{3}}^{Q}$\n",
    "6. Recalcular los valores de los componentes para cumplir con una transferencia de Butterworth\n",
    "7. Pensar cómo implementar un filtro pasabanda con los mismos componentes y cuáles serían sus parámetros"
   ]
  },
  {
   "cell_type": "markdown",
   "id": "3dfb0fc3",
   "metadata": {},
   "source": [
    "## 1. Transferencia\n",
    "\n",
    "Los cálculos de transferencia se realizaron en papel. Se incluyen los mismos en el anexo correspondiente. Por simplicidad, aquí se presenta únicamente el resultado: \n",
    "\n",
    "**${\\large T_{(s)} = -\\frac{R_{3}}{R_{1}} \\frac{\\frac{1}{(R_{3} \\cdot C){2}}}{s^{2}+s\\frac{1}{R_{2} \\cdot C}+\\frac{1}{(R_{3} \\cdot C)^{2}}}}$**   (1)  "
   ]
  },
  {
   "cell_type": "markdown",
   "id": "3ce3b9e3",
   "metadata": {},
   "source": [
    "## 2. Cálculo de $\\omega_{0}$ y $Q$\n",
    "\n",
    "La transferencia de un filtro pasabajos en función de sus parámetros $\\omega_{0}$ y $Q$ es:\n",
    "\n",
    "**$ \\large T_{LP(s)} = \\frac{1}{s^{2}+s\\frac{\\omega_{0}}{Q}+\\omega_{0}}$**   (2)\n",
    "\n",
    "Comparando las ecuaciones (1) y (2), se observa que:\n",
    "\n",
    "$\\omega_{0} = \\frac{1}{R_{3} \\cdot C}$\n",
    "\n",
    "Y como se pide $\\omega_{0} = 1 rad/s$:\n",
    "\n",
    "$\\frac{1}{R_{3} \\cdot C = 1} \\rightarrow C = \\frac{1}{R_{3}}$\n",
    "\n",
    "Definiendo **$R_{3} = 10k\\Omega$** , se obtiene **$C = 100\\mu F$**\n",
    "\n",
    "También se puede observar que:\n",
    "\n",
    "$\\frac{\\omega_{0}}{Q} = \\frac{1}{R_{2} \\cdot C} \\rightarrow Q = \\frac{R_{2}}{R_{3}}$\n",
    "\n",
    "Y como se pide $Q = 3$, sabiendo que $R_{3} = 10k\\Omega$, se obtiene $R_{2} = 30k\\Omega$"
   ]
  },
  {
   "cell_type": "markdown",
   "id": "37d60dfa",
   "metadata": {},
   "source": [
    "## 3. Cálculo de ganancia en continua $T_{(0)}$\n",
    "\n",
    "La ganancia en continua estará dada por:\n",
    "\n",
    "$|T_{(0)}| = \\frac{R_{3}}{R_{1}}$\n",
    "\n",
    "Sabiendo que 20dB = 10 veces, y que $R_{3} = 10k\\Omega$, se obtiene $R_{1} = 1k\\Omega$"
   ]
  },
  {
   "cell_type": "markdown",
   "id": "48af3653",
   "metadata": {},
   "source": [
    "## Simulación\n",
    "\n",
    "Se incluyen en este apartado las figuras obtenidas a partir de la simulación del circuito obtenido en LTSpice. \n",
    "\n",
    "El único parámetro no calculado, $R_{4}$, se diseñó arbitrariamente ya que no influye en la transferencia, de forma que $R_{4} = R_{3} = 10k\\Omega$\n",
    "\n",
    "<img src=\"./circuito_diseño.png\" align=center width=500/>"
   ]
  }
 ],
 "metadata": {
  "kernelspec": {
   "display_name": "Python 3 (ipykernel)",
   "language": "python",
   "name": "python3"
  },
  "language_info": {
   "codemirror_mode": {
    "name": "ipython",
    "version": 3
   },
   "file_extension": ".py",
   "mimetype": "text/x-python",
   "name": "python",
   "nbconvert_exporter": "python",
   "pygments_lexer": "ipython3",
   "version": "3.10.11"
  }
 },
 "nbformat": 4,
 "nbformat_minor": 5
}
