{
 "cells": [
  {
   "cell_type": "markdown",
   "id": "05eb3b98",
   "metadata": {},
   "source": [
    "<img src=\"./logo_UTN.svg\" align=\"right\" width=\"150\"> \n",
    "\n",
    "# Tarea Semanal 3\n",
    "#### Autor: Tobías Guerrero"
   ]
  },
  {
   "attachments": {},
   "cell_type": "markdown",
   "id": "fcf6fb3f",
   "metadata": {},
   "source": [
    "## Consigna\n",
    "\n",
    "<img src=\"./plantilla.png\" align=\"center\" width=\"600\"/>\n",
    "\n",
    "A partir de la plantilla propuesta, se pide:\n",
    "1. Obtener la transferencia para máxima planicidad en la banda de paso utilizando los conceptos de partes de función.\n",
    "2. Obtener el diagrama de polos y ceros, y un bosquejo de la respuesta en frecuencia.\n",
    "3. Implementar el circuito normalizado con estructuras pasivas separadas mediante buffers.\n",
    "4. Obtenga el circuito que cumpla con la plantilla requerida si dispone de capacitores de 100nf.\n",
    "5. Proponga una red que se comporte igual a la hallada en 4) pero con resistores, capacitores y opamps.\n",
    "6. Proponer un planteo alternativo a 1) usando la $\\omega_{Butter}$"
   ]
  },
  {
   "cell_type": "markdown",
   "id": "9597bbb5",
   "metadata": {},
   "source": [
    "## 1. Transferencia\n",
    "\n",
    "A partir de los datos de la plantilla, se llegó a la siguiente transferencia:\n",
    "\n",
    "$\\large T_{s} = \\frac{1,25}{s + 1,25} \\cdot \\frac{1,57}{s^{2} + 1,26 s + 1,57}$\n",
    "\n",
    "El procedimiento y los cálculos se incluyen en el anexo."
   ]
  },
  {
   "cell_type": "markdown",
   "id": "a93d7507",
   "metadata": {},
   "source": [
    "## 2. Diagrama de polos y ceros. Respuesta en frecuencia\n",
    "\n",
    "En este apartado, se incluye una imagen de los gráficos realizados a mano. Se deja asentado que una mejora a futuro sería realizarlos mediante simulación númerica, opción que no se realizó en este caso por problemas de tiempo.\n",
    "\n"
   ]
  },
  {
   "cell_type": "markdown",
   "id": "2b2bc22d",
   "metadata": {},
   "source": [
    "## 3. Implementación normalizada\n",
    "\n",
    "Para la transferencia de orden 1 se propone un circuito pasabajos RC. Analizando este circuito, se halla que para la implementación, $\\frac{1}{RC} = 1,25$\n",
    "Tomando como referencia el capacitor, $C = 1$ y $R = 0,8$\n",
    "\n",
    "Para la transferencia de orden 2, se propone un circuito pasabajos RLC. Analizando el circuito, se llega a que $\\frac{1}{LC} = 1,57$ y $\\frac{R}{L} = 1,25$.\n",
    "Nuevamente, tomando como referencia el capacitor, resulta $C = 1$, $L = 0,64$ y $R = 0,8$.\n",
    "\n",
    "Se adjuntan imágenes del circuito y de la simulación.\n",
    "\n",
    "<img src=\"./normalizado.png\" align=\"center\" width=\"600\"/>\n",
    "<img src=\"./normalizado_graf.png\" align=\"center\" width=\"600\"/>"
   ]
  },
  {
   "cell_type": "markdown",
   "id": "4fb521e9",
   "metadata": {},
   "source": [
    "## 4. Desnormalización\n",
    "\n",
    "Al haber tomado como referencia el capacitor, de forma que $C_{n} = 1$, se puede hallar la norma de impedancia, sabiendo que $\\Omega_{\\omega} = 2\\pi \\cdot 1,5kHz$ y que $C = 100nF$:\n",
    "\n",
    "$\\Omega_{Z} = \\frac{1}{\\Omega_{\\omega} \\cdot C} = 1061\\Omega$\n",
    "\n",
    "De esta forma: \n",
    "\n",
    "$R = R_{n} \\cdot \\Omega_{\\omega} = 848\\Omega$\n",
    "\n",
    "$L = \\frac{\\Omega_{Z}}{\\Omega_{\\omega} \\cdot L_{n}} = 72mHy$\n",
    "\n",
    "Se adjuntan imágenes del circuito y de la simulación.\n",
    "\n",
    "<img src=\"./desnormalizado.png\" align=\"center\" width=\"600\"/>\n",
    "<img src=\"./normalizado_graf.png\" align=\"center\" width=\"600\"/>"
   ]
  },
  {
   "cell_type": "markdown",
   "id": "c736135f",
   "metadata": {},
   "source": [
    "## 5. Implementación sin inductores\n",
    "\n",
    "Para la realización de este punto, primero se aplicó la regla de Bruton al circuito de segundo orden, que consiste en obtener un circuito equivalente dividiendo todas las impedancias por $s$. De esta forma, se obtuvo un circuito conformado por un capacitor de valor $_frac{1}{R}$, un resistor de valor $L$ y un FDNR de valor $1/C$. Como $C = 1$, la implementación más sencilla surge de tomar todas las impedancias iguales a 1, como se muestra en el circuito a continuación. En la simulación, se observa que el circuito presenta la misma respuesta en frecuencia que el hallado en el punto 4.\n",
    "\n",
    "<img src=\"./fdnr.png\" align=\"center\" width=\"600\"/>\n",
    "<img src=\"./fdnr_graf.png\" align=\"center\" width=\"600\"/>"
   ]
  },
  {
   "cell_type": "markdown",
   "id": "78679639",
   "metadata": {},
   "source": [
    "## 6. Resolución aplicando $\\omega_{Butter}$\n",
    "\n",
    "Para este punto, en primera instancia se calculó la norma de Butterworth, que resultó $\\omega_{Butter} = 2\\pi \\cdot 1,5kHz \\epsilon^{\\frac{-1}{n}} = 1,25$.\n",
    "Luego, se implementó una transferencia de Butterworth de 3 orden con el mismo circuito propuesto en 3., para luego desnormalizar con la norma hallada. Los componentes, como es de esperarse, resultan iguales que en el punto 4. No se incluyó la simulación circuital de este punto ya que es equivalente a la de este punto mencionado."
   ]
  },
  {
   "cell_type": "markdown",
   "id": "71ca7057",
   "metadata": {},
   "source": [
    "## Anexo - Desarrollo en papel\n",
    "\n",
    "<img src=\"./pag1.jpg\" align=\"center\" width=\"600\"/>\n",
    "<img src=\"./pag2.jpg\" align=\"center\" width=\"600\"/>\n",
    "<img src=\"./pag3.jpg\" align=\"center\" width=\"600\"/>"
   ]
  }
 ],
 "metadata": {
  "kernelspec": {
   "display_name": "Python 3 (ipykernel)",
   "language": "python",
   "name": "python3"
  },
  "language_info": {
   "codemirror_mode": {
    "name": "ipython",
    "version": 3
   },
   "file_extension": ".py",
   "mimetype": "text/x-python",
   "name": "python",
   "nbconvert_exporter": "python",
   "pygments_lexer": "ipython3",
   "version": "3.10.11"
  }
 },
 "nbformat": 4,
 "nbformat_minor": 5
}
