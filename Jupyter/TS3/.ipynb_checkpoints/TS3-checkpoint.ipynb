{
 "cells": [
  {
   "cell_type": "markdown",
   "id": "05eb3b98",
   "metadata": {},
   "source": [
    "<img src=\"./logo_UTN.svg\" align=\"right\" width=\"150\"> \n",
    "\n",
    "# Tarea Semanal 3\n",
    "#### Autor: Tobías Guerrero"
   ]
  },
  {
   "cell_type": "markdown",
   "id": "fcf6fb3f",
   "metadata": {},
   "source": [
    "## Consigna\n",
    "\n",
    "<img src=\"./plantilla.png\" align=\"center\" width=\"600\"/>\n",
    "\n",
    "A partir de la plantilla propuesta, se pide:\n",
    "1. Obtener la transferencia para máxima planicidad en la banda de paso utilizando los conceptos de partes de función.\n",
    "2. Obtener el diagrama de polos y ceros, y un bosquejo de la respuesta en frecuencia.\n",
    "3. Implementar el circuito normalizado con estructuras pasivas separadas mediante buffers.\n",
    "4. Obtenga el circuito que cumpla con la plantilla requerida si dispone de capacitores de 100nf.\n",
    "5. Proponga una red que se comporte igual a la hallada en 4) pero con resistores, capacitores y opamps.\n",
    "6. Proponer un planteo alternativo a 1) usando la $\\omega_{Butter}$"
   ]
  },
  {
   "cell_type": "markdown",
   "id": "9597bbb5",
   "metadata": {},
   "source": [
    "## 1. Transferencia\n",
    "\n",
    "A partir de los datos de la plantilla, se llegó a la siguiente transferencia:\n",
    "\n",
    "$\\large T_{s} = \\frac{1,96}{s^{3} + 2,51 \\cdot s^{2} + 3,14 \\cdot s + 1,96} = \\frac{1,25}{s + 1,25} \\cdot \\frac{1,57}{s^{2} + 1,26 s + 1,57}$\n",
    "\n",
    "El procedimiento y los cálculos se incluyen en el anexo.\n",
    "\n",
    "### Verificación numérica\n",
    "\n",
    "Para verificar la transferencia hallada se recurrió a la simulación numérica de la plantilla en Python. El desarrollo se muestra a continuación."
   ]
  },
  {
   "cell_type": "code",
   "execution_count": 1,
   "id": "c65663cd",
   "metadata": {},
   "outputs": [],
   "source": [
    "# Se importan las librerías necesarias\n",
    "import scipy.signal as sig\n",
    "from pytc2.sistemas_lineales import analyze_sys, TransferFunction\n",
    "import numpy as np\n",
    "from math import log, sqrt, ceil"
   ]
  },
  {
   "cell_type": "code",
   "execution_count": 2,
   "id": "43427a4d",
   "metadata": {},
   "outputs": [],
   "source": [
    "# Se cargan los datos de la plantilla\n",
    "amax = 1\n",
    "amin = 12\n",
    "fp = 1\n",
    "fs = 2"
   ]
  },
  {
   "cell_type": "code",
   "execution_count": 3,
   "id": "cb0a7bd3",
   "metadata": {},
   "outputs": [],
   "source": [
    "# Se calculan epsilon y el orden n\n",
    "ee = 10**(amax/10) - 1\n",
    "n = ceil(log(sqrt(((10**(amin/10))-1)/((10**(amax/10)-1))))/log(fs/fp))"
   ]
  },
  {
   "cell_type": "code",
   "execution_count": 4,
   "id": "8e4ed37a",
   "metadata": {},
   "outputs": [],
   "source": [
    "# Se crea un array que representará el denominador de la transferencia de Butter al cuadrado\n",
    "butter = np.zeros(2*n + 1)\n",
    "butter[-1] = 1/ee\n",
    "butter[0] = -1"
   ]
  },
  {
   "cell_type": "code",
   "execution_count": 5,
   "id": "ab4ac6c0",
   "metadata": {},
   "outputs": [],
   "source": [
    "# Se hallan las raíces del denominador de Butter. Se eligen las que tienen parte real negativa, y con ellas se arman\n",
    "# polinomios de orden 1\n",
    "aa = np.roots(butter)\n",
    "raices = aa[ np.real(aa) < 0 ]\n",
    "\n",
    "poli1_0 = np.array([ 1, -raices[0] ])\n",
    "poli1_1 = np.array([ 1, -raices[1] ])\n",
    "poli1_2 = np.array([ 1, -raices[2] ])"
   ]
  },
  {
   "cell_type": "code",
   "execution_count": 6,
   "id": "0bb00b2b",
   "metadata": {},
   "outputs": [
    {
     "name": "stdout",
     "output_type": "stream",
     "text": [
      "[1.        +0.j 2.50515278+0.j 3.13789522+0.j 1.96522673+0.j]\n"
     ]
    }
   ],
   "source": [
    "# Se multiplican los polinomios de orden 1 para hallar el denominador de la transferencia. Se observa que los coeficientes\n",
    "# coinciden con los encontrados en papel\n",
    "# En realidad me dan negativos los coeficientes pares. Esto es un error. CONSULTAR\n",
    "# El error estaba en que los polinomios de orden 1 se arman con \"-raiz\", y no con \"raiz\". Lo dejo expresado para recordarlo.\n",
    "\n",
    "poli_aux = np.polymul(poli1_1,poli1_2)\n",
    "\n",
    "den = np.polymul( poli_aux , poli1_0 )\n",
    "\n",
    "print( den )"
   ]
  },
  {
   "cell_type": "markdown",
   "id": "a93d7507",
   "metadata": {},
   "source": [
    "## 2. Diagrama de polos y ceros. Respuesta en frecuencia\n",
    "\n",
    "Este apartado se realizó mediante dos métodos distintos. \n",
    "\n",
    "Por un lado, se realizaron los gráficos a mano en papel. Estos se adjuntan en el anexo.\n",
    "\n",
    "Luego, se verificaron los gráficos realizados mediante simulación numérica en Python, la cual se desarrolla a continuación."
   ]
  },
  {
   "cell_type": "code",
   "execution_count": 7,
   "id": "b66f832d",
   "metadata": {},
   "outputs": [
    {
     "ename": "NameError",
     "evalue": "name 'plt' is not defined",
     "output_type": "error",
     "traceback": [
      "\u001b[1;31m---------------------------------------------------------------------------\u001b[0m",
      "\u001b[1;31mNameError\u001b[0m                                 Traceback (most recent call last)",
      "Cell \u001b[1;32mIn[7], line 11\u001b[0m\n\u001b[0;32m      9\u001b[0m mpl\u001b[38;5;241m.\u001b[39mrcParams[\u001b[38;5;124m'\u001b[39m\u001b[38;5;124mfigure.figsize\u001b[39m\u001b[38;5;124m'\u001b[39m] \u001b[38;5;241m=\u001b[39m (fig_sz_x, fig_sz_y)\n\u001b[0;32m     10\u001b[0m mpl\u001b[38;5;241m.\u001b[39mrcParams[\u001b[38;5;124m'\u001b[39m\u001b[38;5;124mfigure.dpi\u001b[39m\u001b[38;5;124m'\u001b[39m] \u001b[38;5;241m=\u001b[39m fig_dpi\n\u001b[1;32m---> 11\u001b[0m \u001b[43mplt\u001b[49m\u001b[38;5;241m.\u001b[39mrcParams\u001b[38;5;241m.\u001b[39mupdate({\u001b[38;5;124m'\u001b[39m\u001b[38;5;124mfont.size\u001b[39m\u001b[38;5;124m'\u001b[39m:fig_font_size})\n",
      "\u001b[1;31mNameError\u001b[0m: name 'plt' is not defined"
     ]
    }
   ],
   "source": [
    "# Configuración de gráficos\n",
    "import matplotlib as mpl\n",
    "\n",
    "fig_sz_x = 13\n",
    "fig_sz_y = 7\n",
    "fig_dpi = 80 # dpi\n",
    "fig_font_size = 13\n",
    "\n",
    "mpl.rcParams['figure.figsize'] = (fig_sz_x, fig_sz_y)\n",
    "mpl.rcParams['figure.dpi'] = fig_dpi\n",
    "mpl.rcParams.update({'font.size':fig_font_size})"
   ]
  },
  {
   "cell_type": "code",
   "execution_count": null,
   "id": "07839f40",
   "metadata": {},
   "outputs": [],
   "source": [
    "#Se usa la función TransferFunction para plantear la transferencia hallada, utilizando el denominador hallado y un numerador\n",
    "# de orden 0 igual al coeficiente de orden 0 del denominador para obtener una transferencia de 0dB\n",
    "\n",
    "num = np.array([1.96])\n",
    "\n",
    "tf = TransferFunction(num,den)"
   ]
  },
  {
   "cell_type": "code",
   "execution_count": null,
   "id": "d828d81a",
   "metadata": {},
   "outputs": [],
   "source": [
    "#Se realizan los gráficos\n",
    "analyze_sys(tf,sys_name='TS3.2')"
   ]
  },
  {
   "cell_type": "markdown",
   "id": "2b2bc22d",
   "metadata": {},
   "source": [
    "## 3. Implementación normalizada\n",
    "\n",
    "Para la transferencia de orden 1 se propone un circuito pasabajos RC. Analizando este circuito, se halla que para la implementación, $\\frac{1}{RC} = 1,25$\n",
    "Tomando como referencia el capacitor, $C = 1$ y $R = 0,8$\n",
    "\n",
    "Para la transferencia de orden 2, se propone un circuito pasabajos RLC. Analizando el circuito, se llega a que $\\frac{1}{LC} = 1,57$ y $\\frac{R}{L} = 1,25$.\n",
    "Nuevamente, tomando como referencia el capacitor, resulta $C = 1$, $L = 0,64$ y $R = 0,8$.\n",
    "\n",
    "Se adjuntan imágenes del circuito y de la simulación.\n",
    "\n",
    "<img src=\"./normalizado.png\" align=\"center\" width=\"600\"/>\n",
    "<img src=\"./normalizado_graf.png\" align=\"center\" width=\"600\"/>\n",
    "\n",
    "Luego, se realizó una simulación numérica en Python. El código se desarrolla a continuación."
   ]
  },
  {
   "cell_type": "markdown",
   "id": "4fb521e9",
   "metadata": {},
   "source": [
    "## 4. Desnormalización\n",
    "\n",
    "Al haber tomado como referencia el capacitor, de forma que $C_{n} = 1$, se puede hallar la norma de impedancia, sabiendo que $\\Omega_{\\omega} = 2\\pi \\cdot 1,5kHz$ y que $C = 100nF$:\n",
    "\n",
    "$\\Omega_{Z} = \\frac{1}{\\Omega_{\\omega} \\cdot C} = 1061\\Omega$\n",
    "\n",
    "De esta forma: \n",
    "\n",
    "$R = R_{n} \\cdot \\Omega_{\\omega} = 848\\Omega$\n",
    "\n",
    "$L = \\frac{\\Omega_{Z}}{\\Omega_{\\omega} \\cdot L_{n}} = 72mHy$\n",
    "\n",
    "Se adjuntan imágenes del circuito y de la simulación.\n",
    "\n",
    "<img src=\"./desnormalizado.png\" align=\"center\" width=\"600\"/>\n",
    "<img src=\"./normalizado_graf.png\" align=\"center\" width=\"600\"/>"
   ]
  },
  {
   "cell_type": "markdown",
   "id": "c736135f",
   "metadata": {},
   "source": [
    "## 5. Implementación sin inductores\n",
    "\n",
    "Para la realización de este punto, primero se aplicó la regla de Bruton al circuito de segundo orden, que consiste en obtener un circuito equivalente dividiendo todas las impedancias por $s$. De esta forma, se obtuvo un circuito conformado por un capacitor de valor $\\frac{1}{R}$, un resistor de valor $L$ y un FDNR de valor $\\frac{1}{C}$. Como $C = 1$, la implementación más sencilla surge de tomar todas las impedancias iguales a 1, como se muestra en el circuito a continuación. En la simulación, se observa que el circuito presenta la misma respuesta en frecuencia que el hallado en el punto 4.\n",
    "\n",
    "<img src=\"./fdnr.png\" align=\"center\" width=\"600\"/>\n",
    "<img src=\"./fdnr_graf.png\" align=\"center\" width=\"600\"/>"
   ]
  },
  {
   "cell_type": "markdown",
   "id": "78679639",
   "metadata": {},
   "source": [
    "## 6. Resolución aplicando $\\omega_{Butter}$\n",
    "\n",
    "Para este punto, en primera instancia se calculó la norma de Butterworth, que resultó $\\omega_{Butter} = 2\\pi \\cdot 1,5kHz \\cdot \\epsilon^{\\frac{-1}{n}} = 1,25$.\n",
    "Luego, se implementó una transferencia de Butterworth de 3 orden con el mismo circuito propuesto en 3., para luego desnormalizar con la norma hallada. Los componentes, como es de esperarse, resultan iguales que en el punto 4. No se incluyó la simulación circuital de este punto ya que es equivalente a la de este punto mencionado."
   ]
  },
  {
   "cell_type": "markdown",
   "id": "71ca7057",
   "metadata": {},
   "source": [
    "## Anexo - Desarrollo en papel\n",
    "\n",
    "<img src=\"./pag1.jpg\" align=\"center\" width=\"600\"/>\n",
    "<img src=\"./pag2.jpg\" align=\"center\" width=\"600\"/>\n",
    "<img src=\"./pag3.jpg\" align=\"center\" width=\"600\"/>"
   ]
  }
 ],
 "metadata": {
  "kernelspec": {
   "display_name": "Python 3 (ipykernel)",
   "language": "python",
   "name": "python3"
  },
  "language_info": {
   "codemirror_mode": {
    "name": "ipython",
    "version": 3
   },
   "file_extension": ".py",
   "mimetype": "text/x-python",
   "name": "python",
   "nbconvert_exporter": "python",
   "pygments_lexer": "ipython3",
   "version": "3.10.11"
  }
 },
 "nbformat": 4,
 "nbformat_minor": 5
}
